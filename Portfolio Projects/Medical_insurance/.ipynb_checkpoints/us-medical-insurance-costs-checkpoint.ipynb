{
 "cells": [
  {
   "cell_type": "markdown",
   "metadata": {},
   "source": [
    "# U.S. Medical Insurance Costs"
   ]
  },
  {
   "cell_type": "code",
   "execution_count": 1,
   "metadata": {},
   "outputs": [],
   "source": [
    "# data file in format of: age,sex,bmi,children,smoker,region,charges\n",
    "\n",
    "import csv\n",
    "records = []"
   ]
  },
  {
   "cell_type": "code",
   "execution_count": 2,
   "metadata": {},
   "outputs": [],
   "source": [
    "# opening and placing all data into a list of dictionaries\n",
    "\n",
    "with open(\"insurance.csv\") as insurance_file:\n",
    "    csv_file = csv.DictReader(insurance_file)\n",
    "    for row in csv_file:\n",
    "        records.append(row)"
   ]
  },
  {
   "cell_type": "code",
   "execution_count": 3,
   "metadata": {},
   "outputs": [],
   "source": [
    "# function that separates dataset into each item in category\n",
    "def separate_sets(record, category):\n",
    "    scale = []\n",
    "    for entry in record:\n",
    "        if not entry[category] in scale: scale.append(entry[category])\n",
    "    temp = {item:[] for item in scale}\n",
    "    for item in temp:\n",
    "        temp[item] = [entry for entry in record if entry[category]==item]\n",
    "    return temp"
   ]
  },
  {
   "cell_type": "code",
   "execution_count": 4,
   "metadata": {},
   "outputs": [],
   "source": [
    "# function to calculate the average of the dictionary for a specific category\n",
    "\n",
    "def average_calc(contain, category):\n",
    "    avg = round(sum([float(entry[category]) for entry in contain])/len(contain),2)\n",
    "    print(\"The average\", category, \"in this dataset is\", avg)\n",
    "    return avg"
   ]
  },
  {
   "cell_type": "code",
   "execution_count": 5,
   "metadata": {},
   "outputs": [
    {
     "name": "stdout",
     "output_type": "stream",
     "text": [
      "The average age in this dataset is 39.21\n",
      "The average charges in this dataset is 13270.42\n",
      "The average bmi in this dataset is 30.66\n",
      "The average children in this dataset is 1.09\n"
     ]
    }
   ],
   "source": [
    "# test out average function on categories that can be used\n",
    "avg_age = average_calc(records, \"age\")\n",
    "avg_cost = average_calc(records, \"charges\")\n",
    "avg_bmi = average_calc(records, \"bmi\")\n",
    "avg_kids = average_calc(records, \"children\")"
   ]
  },
  {
   "cell_type": "code",
   "execution_count": 6,
   "metadata": {},
   "outputs": [],
   "source": [
    "# function to calculate percent the subsets are compared to the whole\n",
    "def calc_percent(data1, title1, data2, title2, main):\n",
    "    total = len(data1) + len(data2)\n",
    "   \n",
    "    percent1 = round(len(data1)/total*100,2)\n",
    "    percent2 = round(len(data2)/total*100,2)\n",
    "    print(\"This dataset contains\", percent1, \"percent\", title1, \"and\", percent2, \"percent\", title2)\n",
    "    return percent1, percent2"
   ]
  },
  {
   "cell_type": "code",
   "execution_count": 7,
   "metadata": {
    "scrolled": false
   },
   "outputs": [
    {
     "name": "stdout",
     "output_type": "stream",
     "text": [
      "This dataset contains 50.52 percent men and 49.48 percent women\n",
      "Dataset: only males\n",
      "The average charges in this dataset is 13956.75\n",
      "Dataset: only females\n",
      "The average charges in this dataset is 12569.58\n",
      "On average men pay $1387.17 more for insurance.\n"
     ]
    }
   ],
   "source": [
    "#determine difference in costs based on sex\n",
    "sex = separate_sets(records, \"sex\")\n",
    "men_percent, women_percent = calc_percent(sex[\"male\"], \"men\", sex[\"female\"], \"women\", records)\n",
    "print(\"Dataset: only males\")\n",
    "men_avg = average_calc(sex[\"male\"], \"charges\")\n",
    "print(\"Dataset: only females\")\n",
    "women_avg = average_calc(sex[\"female\"], \"charges\")\n",
    "print(\"On average men pay\", \"$\" + str(men_avg - women_avg), \"more for insurance.\")\n"
   ]
  },
  {
   "cell_type": "code",
   "execution_count": 8,
   "metadata": {},
   "outputs": [
    {
     "name": "stdout",
     "output_type": "stream",
     "text": [
      "This dataset contains 20.48 percent smokers and 79.52 percent non smokers\n",
      "Dataset: smokers\n",
      "The average charges in this dataset is 32050.23\n",
      "Dataset: non-smokers\n",
      "The average charges in this dataset is 8434.27\n",
      "On average smokers pay $23615.96 more for insurance.\n",
      "This dataset contains 58.03 percent men and 41.97 percent women\n"
     ]
    }
   ],
   "source": [
    "# Look and compare differences for smokers and non-smokers\n",
    "smoke = separate_sets(records, \"smoker\")\n",
    "\n",
    "smoker_percent, non_smoker_percent = calc_percent(smoke[\"yes\"], \"smokers\", smoke[\"no\"], \"non smokers\", records)\n",
    "\n",
    "print(\"Dataset: smokers\")\n",
    "smoker_avg = average_calc(smoke[\"yes\"], \"charges\")\n",
    "print(\"Dataset: non-smokers\")\n",
    "non_smoker_avg = average_calc(smoke[\"no\"], \"charges\")\n",
    "print(\"On average smokers pay\", \"$\" + str(smoker_avg - non_smoker_avg), \"more for insurance.\")\n",
    "sex_smoker = separate_sets(smoke[\"yes\"], \"sex\")\n",
    "m, f = calc_percent(sex_smoker[\"male\"], \"men\", sex_smoker[\"female\"], \"women\", sex_smoker)"
   ]
  },
  {
   "cell_type": "code",
   "execution_count": 9,
   "metadata": {},
   "outputs": [],
   "source": [
    "#function to classify entries into set categories based on a scale\n",
    "\n",
    "def classify(scale, record, category):\n",
    "    keys = [key for key in scale.keys()]\n",
    "    temp = {key:0 for key in scale.values()}\n",
    "    for entry in record:\n",
    "        for key in keys:\n",
    "            if float(entry[category]) < key: \n",
    "                temp[scale[key]] += 1\n",
    "                break\n",
    "    return temp"
   ]
  },
  {
   "cell_type": "code",
   "execution_count": 10,
   "metadata": {},
   "outputs": [
    {
     "name": "stdout",
     "output_type": "stream",
     "text": [
      "{'underweight': 20, 'normal': 225, 'overweight': 386, 'obese': 391, 'extremely obese': 316}\n",
      "{'child': 166, 'young adult': 251, 'adult': 257, 'middle aged': 279, 'old': 271, 'elderly': 114}\n",
      "{'no children': 574, 'single child': 324, 'two children': 240, 'more than two children': 200}\n"
     ]
    }
   ],
   "source": [
    "bmi_scale = {18.5:\"underweight\", 25.0: \"normal\", 30: \"overweight\", 35: \"obese\", float(\"inf\"): \"extremely obese\"}\n",
    "age_scale = {21: \"child\", 30: \"young adult\", 40 : \"adult\", 50: \"middle aged\", 60: \"old\", float(\"inf\"): \"elderly\"}\n",
    "children = {1: \"no children\", 2: \"single child\", 3: \"two children\", float(\"inf\"): \"more than two children\"}\n",
    "bmi_ranges = classify(bmi_scale, records, \"bmi\")\n",
    "print(bmi_ranges)\n",
    "age_ranges = classify(age_scale, records, \"age\")\n",
    "print(age_ranges)\n",
    "num_children = classify(children, records, \"children\")\n",
    "print(num_children)"
   ]
  },
  {
   "cell_type": "code",
   "execution_count": 11,
   "metadata": {},
   "outputs": [
    {
     "name": "stdout",
     "output_type": "stream",
     "text": [
      "{'southwest': 325, 'southeast': 364, 'northwest': 325, 'northeast': 324}\n"
     ]
    }
   ],
   "source": [
    "# function to count numbers of each category in a scale\n",
    "\n",
    "def count_class(scale, record, category):\n",
    "    temp = {scale[i]:0 for i in range(len(scale))}\n",
    "    for entry in record:\n",
    "         for i in range(len(scale)):\n",
    "                if entry[category]==scale[i]: temp[entry[category]] += 1\n",
    "    return temp\n",
    "\n",
    "regions = []\n",
    "for entry in records:\n",
    "    if not entry[\"region\"] in regions: regions.append(entry[\"region\"])\n",
    "region_nums = count_class(regions, records, \"region\")\n",
    "print(region_nums)"
   ]
  },
  {
   "cell_type": "code",
   "execution_count": 12,
   "metadata": {},
   "outputs": [
    {
     "name": "stdout",
     "output_type": "stream",
     "text": [
      "Datasets in order: Southwest, Southeast, Northwest, Northeast\n",
      "The average charges in this dataset is 12346.94\n",
      "The average charges in this dataset is 14735.41\n",
      "The average charges in this dataset is 12417.58\n",
      "The average charges in this dataset is 13406.38\n"
     ]
    }
   ],
   "source": [
    "areas = separate_sets(records, \"region\")\n",
    "print(\"Datasets in order: Southwest, Southeast, Northwest, Northeast\")\n",
    "avg_southwest = average_calc(areas[\"southwest\"], \"charges\")\n",
    "avg_southeast = average_calc(areas[\"southeast\"], \"charges\")\n",
    "avg_northwest = average_calc(areas[\"northwest\"], \"charges\")\n",
    "avg_northeast = average_calc(areas[\"northeast\"], \"charges\")"
   ]
  },
  {
   "cell_type": "code",
   "execution_count": 13,
   "metadata": {},
   "outputs": [
    {
     "name": "stdout",
     "output_type": "stream",
     "text": [
      "Num of children: 0\n",
      "The average charges in this dataset is 12365.98\n",
      "Num of children: 1\n",
      "The average charges in this dataset is 12731.17\n",
      "Num of children: 2\n",
      "The average charges in this dataset is 15073.56\n",
      "Num of children: 3\n",
      "The average charges in this dataset is 15355.32\n",
      "Num of children: 4\n",
      "The average charges in this dataset is 13850.66\n",
      "Num of children: 5\n",
      "The average charges in this dataset is 8786.04\n",
      "Percent of data with 4 or 5 kids: 3.21\n"
     ]
    }
   ],
   "source": [
    "child = separate_sets(records,\"children\")\n",
    "for key in range(len(child)):\n",
    "    print(\"Num of children:\", key)\n",
    "    average = average_calc(child[str(key)], \"charges\")\n",
    "print(\"Percent of data with 4 or 5 kids:\", round((((len(child[str(5)])+len(child[str(4)]))/len(records))*100),2))"
   ]
  },
  {
   "cell_type": "code",
   "execution_count": 4,
   "metadata": {},
   "outputs": [
    {
     "data": {
      "text/html": [
       "<div>\n",
       "<style scoped>\n",
       "    .dataframe tbody tr th:only-of-type {\n",
       "        vertical-align: middle;\n",
       "    }\n",
       "\n",
       "    .dataframe tbody tr th {\n",
       "        vertical-align: top;\n",
       "    }\n",
       "\n",
       "    .dataframe thead th {\n",
       "        text-align: right;\n",
       "    }\n",
       "</style>\n",
       "<table border=\"1\" class=\"dataframe\">\n",
       "  <thead>\n",
       "    <tr style=\"text-align: right;\">\n",
       "      <th></th>\n",
       "      <th>age</th>\n",
       "      <th>sex</th>\n",
       "      <th>bmi</th>\n",
       "      <th>children</th>\n",
       "      <th>smoker</th>\n",
       "      <th>region</th>\n",
       "      <th>charges</th>\n",
       "    </tr>\n",
       "  </thead>\n",
       "  <tbody>\n",
       "    <tr>\n",
       "      <th>0</th>\n",
       "      <td>19</td>\n",
       "      <td>female</td>\n",
       "      <td>27.900</td>\n",
       "      <td>0</td>\n",
       "      <td>yes</td>\n",
       "      <td>southwest</td>\n",
       "      <td>16884.92400</td>\n",
       "    </tr>\n",
       "    <tr>\n",
       "      <th>1</th>\n",
       "      <td>18</td>\n",
       "      <td>male</td>\n",
       "      <td>33.770</td>\n",
       "      <td>1</td>\n",
       "      <td>no</td>\n",
       "      <td>southeast</td>\n",
       "      <td>1725.55230</td>\n",
       "    </tr>\n",
       "    <tr>\n",
       "      <th>2</th>\n",
       "      <td>28</td>\n",
       "      <td>male</td>\n",
       "      <td>33.000</td>\n",
       "      <td>3</td>\n",
       "      <td>no</td>\n",
       "      <td>southeast</td>\n",
       "      <td>4449.46200</td>\n",
       "    </tr>\n",
       "    <tr>\n",
       "      <th>3</th>\n",
       "      <td>33</td>\n",
       "      <td>male</td>\n",
       "      <td>22.705</td>\n",
       "      <td>0</td>\n",
       "      <td>no</td>\n",
       "      <td>northwest</td>\n",
       "      <td>21984.47061</td>\n",
       "    </tr>\n",
       "    <tr>\n",
       "      <th>4</th>\n",
       "      <td>32</td>\n",
       "      <td>male</td>\n",
       "      <td>28.880</td>\n",
       "      <td>0</td>\n",
       "      <td>no</td>\n",
       "      <td>northwest</td>\n",
       "      <td>3866.85520</td>\n",
       "    </tr>\n",
       "  </tbody>\n",
       "</table>\n",
       "</div>"
      ],
      "text/plain": [
       "   age     sex     bmi  children smoker     region      charges\n",
       "0   19  female  27.900         0    yes  southwest  16884.92400\n",
       "1   18    male  33.770         1     no  southeast   1725.55230\n",
       "2   28    male  33.000         3     no  southeast   4449.46200\n",
       "3   33    male  22.705         0     no  northwest  21984.47061\n",
       "4   32    male  28.880         0     no  northwest   3866.85520"
      ]
     },
     "execution_count": 4,
     "metadata": {},
     "output_type": "execute_result"
    }
   ],
   "source": [
    "#trying pandas\n",
    "import pandas as pd\n",
    "df1 = pd.read_csv(\"insurance.csv\")\n",
    "df1.head()\n"
   ]
  }
 ],
 "metadata": {
  "kernelspec": {
   "display_name": "Python 3 (ipykernel)",
   "language": "python",
   "name": "python3"
  },
  "language_info": {
   "codemirror_mode": {
    "name": "ipython",
    "version": 3
   },
   "file_extension": ".py",
   "mimetype": "text/x-python",
   "name": "python",
   "nbconvert_exporter": "python",
   "pygments_lexer": "ipython3",
   "version": "3.9.13"
  }
 },
 "nbformat": 4,
 "nbformat_minor": 4
}
